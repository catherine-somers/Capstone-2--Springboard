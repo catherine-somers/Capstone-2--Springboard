{
  "nbformat": 4,
  "nbformat_minor": 0,
  "metadata": {
    "kernelspec": {
      "display_name": "Python 3",
      "language": "python",
      "name": "python3"
    },
    "language_info": {
      "codemirror_mode": {
        "name": "ipython",
        "version": 3
      },
      "file_extension": ".py",
      "mimetype": "text/x-python",
      "name": "python",
      "nbconvert_exporter": "python",
      "pygments_lexer": "ipython3",
      "version": "3.7.4"
    },
    "colab": {
      "name": "03_pandas.ipynb",
      "provenance": []
    }
  },
  "cells": [
    {
      "cell_type": "markdown",
      "metadata": {
        "id": "S8j1QbucFRgj",
        "colab_type": "text"
      },
      "source": [
        "# pandas\n",
        "Here we will have a quick play with a pandas DataFrame and use what we've learned about accessing them to answer some questions.\n",
        "\n",
        "We stopped ten people in the street and asked them what pets they have. We also recorded the person's sex and age."
      ]
    },
    {
      "cell_type": "code",
      "metadata": {
        "id": "Af8Gb5OpFRgk",
        "colab_type": "code",
        "colab": {}
      },
      "source": [
        "import numpy as np\n",
        "import pandas as pd"
      ],
      "execution_count": 0,
      "outputs": []
    },
    {
      "cell_type": "code",
      "metadata": {
        "id": "lkzsgtPAFRgn",
        "colab_type": "code",
        "colab": {}
      },
      "source": [
        "pets = pd.DataFrame({'sex': np.array(['M', 'M', 'F', 'M', 'F', 'F', 'F', 'M', 'F', 'M']),\n",
        "                   'age': np.array([21, 45, 23, 56, 47, 70, 34, 30, 19, 62]),\n",
        "                   'pets': np.array([['cat', 'dog'],\n",
        "                                    ['hamster'],\n",
        "                                    ['cat', 'gerbil'],\n",
        "                                    ['fish', 'hamster', 'gerbil'],\n",
        "                                    ['cat'],\n",
        "                                    ['dog'],\n",
        "                                    ['dog'],\n",
        "                                    ['cat'],\n",
        "                                    ['rabbit', 'cat'],\n",
        "                                    ['dog']])})"
      ],
      "execution_count": 0,
      "outputs": []
    },
    {
      "cell_type": "markdown",
      "metadata": {
        "id": "5XLd3E5EFRgq",
        "colab_type": "text"
      },
      "source": [
        "We have been asked to analyse the survey responses. In particular, we have been given the questions\n",
        "\n",
        "* What sex was the youngest respondent?\n",
        "* What age was the person with the most pets?\n",
        "* What was the most popular pet?\n",
        "* What was the average age of dog owners?\n"
      ]
    },
    {
      "cell_type": "markdown",
      "metadata": {
        "id": "zmVvAXkSFRgr",
        "colab_type": "text"
      },
      "source": [
        "Firstly, let's just look at the data. It's not very big so we don't actually even need to use head()."
      ]
    },
    {
      "cell_type": "code",
      "metadata": {
        "id": "DT8o6VcRFRgs",
        "colab_type": "code",
        "outputId": "8e45d5dd-722b-4ed7-b142-4ccf2be0cb67",
        "colab": {
          "base_uri": "https://localhost:8080/",
          "height": 359
        }
      },
      "source": [
        "pets"
      ],
      "execution_count": 0,
      "outputs": [
        {
          "output_type": "execute_result",
          "data": {
            "text/html": [
              "<div>\n",
              "<style scoped>\n",
              "    .dataframe tbody tr th:only-of-type {\n",
              "        vertical-align: middle;\n",
              "    }\n",
              "\n",
              "    .dataframe tbody tr th {\n",
              "        vertical-align: top;\n",
              "    }\n",
              "\n",
              "    .dataframe thead th {\n",
              "        text-align: right;\n",
              "    }\n",
              "</style>\n",
              "<table border=\"1\" class=\"dataframe\">\n",
              "  <thead>\n",
              "    <tr style=\"text-align: right;\">\n",
              "      <th></th>\n",
              "      <th>sex</th>\n",
              "      <th>age</th>\n",
              "      <th>pets</th>\n",
              "    </tr>\n",
              "  </thead>\n",
              "  <tbody>\n",
              "    <tr>\n",
              "      <th>0</th>\n",
              "      <td>M</td>\n",
              "      <td>21</td>\n",
              "      <td>[cat, dog]</td>\n",
              "    </tr>\n",
              "    <tr>\n",
              "      <th>1</th>\n",
              "      <td>M</td>\n",
              "      <td>45</td>\n",
              "      <td>[hamster]</td>\n",
              "    </tr>\n",
              "    <tr>\n",
              "      <th>2</th>\n",
              "      <td>F</td>\n",
              "      <td>23</td>\n",
              "      <td>[cat, gerbil]</td>\n",
              "    </tr>\n",
              "    <tr>\n",
              "      <th>3</th>\n",
              "      <td>M</td>\n",
              "      <td>56</td>\n",
              "      <td>[fish, hamster, gerbil]</td>\n",
              "    </tr>\n",
              "    <tr>\n",
              "      <th>4</th>\n",
              "      <td>F</td>\n",
              "      <td>47</td>\n",
              "      <td>[cat]</td>\n",
              "    </tr>\n",
              "    <tr>\n",
              "      <th>5</th>\n",
              "      <td>F</td>\n",
              "      <td>70</td>\n",
              "      <td>[dog]</td>\n",
              "    </tr>\n",
              "    <tr>\n",
              "      <th>6</th>\n",
              "      <td>F</td>\n",
              "      <td>34</td>\n",
              "      <td>[dog]</td>\n",
              "    </tr>\n",
              "    <tr>\n",
              "      <th>7</th>\n",
              "      <td>M</td>\n",
              "      <td>30</td>\n",
              "      <td>[cat]</td>\n",
              "    </tr>\n",
              "    <tr>\n",
              "      <th>8</th>\n",
              "      <td>F</td>\n",
              "      <td>19</td>\n",
              "      <td>[rabbit, cat]</td>\n",
              "    </tr>\n",
              "    <tr>\n",
              "      <th>9</th>\n",
              "      <td>M</td>\n",
              "      <td>62</td>\n",
              "      <td>[dog]</td>\n",
              "    </tr>\n",
              "  </tbody>\n",
              "</table>\n",
              "</div>"
            ],
            "text/plain": [
              "  sex  age                     pets\n",
              "0   M   21               [cat, dog]\n",
              "1   M   45                [hamster]\n",
              "2   F   23            [cat, gerbil]\n",
              "3   M   56  [fish, hamster, gerbil]\n",
              "4   F   47                    [cat]\n",
              "5   F   70                    [dog]\n",
              "6   F   34                    [dog]\n",
              "7   M   30                    [cat]\n",
              "8   F   19            [rabbit, cat]\n",
              "9   M   62                    [dog]"
            ]
          },
          "metadata": {
            "tags": []
          },
          "execution_count": 3
        }
      ]
    },
    {
      "cell_type": "markdown",
      "metadata": {
        "id": "vU_STbz1FRgu",
        "colab_type": "text"
      },
      "source": [
        "Notice here, as well, how the notebook has a nice default presentation for DataFrames. And, yes, you can customize this! We won't be going into that here."
      ]
    },
    {
      "cell_type": "markdown",
      "metadata": {
        "id": "p067faPUFRgv",
        "colab_type": "text"
      },
      "source": [
        "## What sex was the youngest respondent?\n",
        "Hint, you might find the .loc accessor useful here. Think about breaking this task down into creating a boolean index that is True where the value in the age column is equal to the minimum of the age column. Then select the sex column."
      ]
    },
    {
      "cell_type": "code",
      "metadata": {
        "id": "Owlatq1AFRgw",
        "colab_type": "code",
        "outputId": "db94d2fd-c44e-4550-dc21-8a673693cd61",
        "colab": {
          "base_uri": "https://localhost:8080/",
          "height": 51
        }
      },
      "source": [
        "# one line of code\n",
        "pets.loc[pets['age'] == min(pets['age']), 'sex']"
      ],
      "execution_count": 0,
      "outputs": [
        {
          "output_type": "execute_result",
          "data": {
            "text/plain": [
              "8    F\n",
              "Name: sex, dtype: object"
            ]
          },
          "metadata": {
            "tags": []
          },
          "execution_count": 4
        }
      ]
    },
    {
      "cell_type": "markdown",
      "metadata": {
        "id": "KOMaKyHCFRgy",
        "colab_type": "text"
      },
      "source": [
        "We see that the youngest respondent was female (F)"
      ]
    },
    {
      "cell_type": "markdown",
      "metadata": {
        "id": "E3sOkjP2FRgz",
        "colab_type": "text"
      },
      "source": [
        "## What age was the person with the most pets?\n",
        "Hint, you may find _apply_ ing len as a lambda function to the pets column useful here. Remember that calling len on the pets column will just return the length of the series, which is the number of rows in the DataFrame. In fact, adding useful features to your data is a very common thing in data science, so go ahead and create a new column in our pets DataFrame and call it 'num_pets'."
      ]
    },
    {
      "cell_type": "code",
      "metadata": {
        "id": "ZfDrojcDFRg0",
        "colab_type": "code",
        "colab": {}
      },
      "source": [
        "# task: create new column 'num_pets' which contains the number of pets\n",
        "# each person had (hint: this is the length of each list in the pets column)\n",
        "# one line of code here:\n",
        "pets['num_pets'] = pets['pets'].apply(lambda x: len(x))"
      ],
      "execution_count": 0,
      "outputs": []
    },
    {
      "cell_type": "code",
      "metadata": {
        "id": "WXerUpajFRg3",
        "colab_type": "code",
        "outputId": "24861ac2-8ac0-4ce0-ba55-06bdfcb755d7",
        "colab": {
          "base_uri": "https://localhost:8080/",
          "height": 359
        }
      },
      "source": [
        "# view the DataFrame again to check our new column is there\n",
        "pets"
      ],
      "execution_count": 0,
      "outputs": [
        {
          "output_type": "execute_result",
          "data": {
            "text/html": [
              "<div>\n",
              "<style scoped>\n",
              "    .dataframe tbody tr th:only-of-type {\n",
              "        vertical-align: middle;\n",
              "    }\n",
              "\n",
              "    .dataframe tbody tr th {\n",
              "        vertical-align: top;\n",
              "    }\n",
              "\n",
              "    .dataframe thead th {\n",
              "        text-align: right;\n",
              "    }\n",
              "</style>\n",
              "<table border=\"1\" class=\"dataframe\">\n",
              "  <thead>\n",
              "    <tr style=\"text-align: right;\">\n",
              "      <th></th>\n",
              "      <th>sex</th>\n",
              "      <th>age</th>\n",
              "      <th>pets</th>\n",
              "      <th>num_pets</th>\n",
              "    </tr>\n",
              "  </thead>\n",
              "  <tbody>\n",
              "    <tr>\n",
              "      <th>0</th>\n",
              "      <td>M</td>\n",
              "      <td>21</td>\n",
              "      <td>[cat, dog]</td>\n",
              "      <td>2</td>\n",
              "    </tr>\n",
              "    <tr>\n",
              "      <th>1</th>\n",
              "      <td>M</td>\n",
              "      <td>45</td>\n",
              "      <td>[hamster]</td>\n",
              "      <td>1</td>\n",
              "    </tr>\n",
              "    <tr>\n",
              "      <th>2</th>\n",
              "      <td>F</td>\n",
              "      <td>23</td>\n",
              "      <td>[cat, gerbil]</td>\n",
              "      <td>2</td>\n",
              "    </tr>\n",
              "    <tr>\n",
              "      <th>3</th>\n",
              "      <td>M</td>\n",
              "      <td>56</td>\n",
              "      <td>[fish, hamster, gerbil]</td>\n",
              "      <td>3</td>\n",
              "    </tr>\n",
              "    <tr>\n",
              "      <th>4</th>\n",
              "      <td>F</td>\n",
              "      <td>47</td>\n",
              "      <td>[cat]</td>\n",
              "      <td>1</td>\n",
              "    </tr>\n",
              "    <tr>\n",
              "      <th>5</th>\n",
              "      <td>F</td>\n",
              "      <td>70</td>\n",
              "      <td>[dog]</td>\n",
              "      <td>1</td>\n",
              "    </tr>\n",
              "    <tr>\n",
              "      <th>6</th>\n",
              "      <td>F</td>\n",
              "      <td>34</td>\n",
              "      <td>[dog]</td>\n",
              "      <td>1</td>\n",
              "    </tr>\n",
              "    <tr>\n",
              "      <th>7</th>\n",
              "      <td>M</td>\n",
              "      <td>30</td>\n",
              "      <td>[cat]</td>\n",
              "      <td>1</td>\n",
              "    </tr>\n",
              "    <tr>\n",
              "      <th>8</th>\n",
              "      <td>F</td>\n",
              "      <td>19</td>\n",
              "      <td>[rabbit, cat]</td>\n",
              "      <td>2</td>\n",
              "    </tr>\n",
              "    <tr>\n",
              "      <th>9</th>\n",
              "      <td>M</td>\n",
              "      <td>62</td>\n",
              "      <td>[dog]</td>\n",
              "      <td>1</td>\n",
              "    </tr>\n",
              "  </tbody>\n",
              "</table>\n",
              "</div>"
            ],
            "text/plain": [
              "  sex  age                     pets  num_pets\n",
              "0   M   21               [cat, dog]         2\n",
              "1   M   45                [hamster]         1\n",
              "2   F   23            [cat, gerbil]         2\n",
              "3   M   56  [fish, hamster, gerbil]         3\n",
              "4   F   47                    [cat]         1\n",
              "5   F   70                    [dog]         1\n",
              "6   F   34                    [dog]         1\n",
              "7   M   30                    [cat]         1\n",
              "8   F   19            [rabbit, cat]         2\n",
              "9   M   62                    [dog]         1"
            ]
          },
          "metadata": {
            "tags": []
          },
          "execution_count": 6
        }
      ]
    },
    {
      "cell_type": "code",
      "metadata": {
        "id": "h4Wutv_5FRg5",
        "colab_type": "code",
        "outputId": "23741cdc-b2e3-4bb3-9a14-0d41875f55f8",
        "colab": {
          "base_uri": "https://localhost:8080/",
          "height": 51
        }
      },
      "source": [
        "pets.loc[pets['num_pets'] == max(pets['num_pets']), 'age']"
      ],
      "execution_count": 0,
      "outputs": [
        {
          "output_type": "execute_result",
          "data": {
            "text/plain": [
              "3    56\n",
              "Name: age, dtype: int64"
            ]
          },
          "metadata": {
            "tags": []
          },
          "execution_count": 7
        }
      ]
    },
    {
      "cell_type": "markdown",
      "metadata": {
        "id": "3m51z3XuFRg9",
        "colab_type": "text"
      },
      "source": [
        "So we see the person with the most pets was 56 years old."
      ]
    },
    {
      "cell_type": "markdown",
      "metadata": {
        "id": "IcjcT71GFRg-",
        "colab_type": "text"
      },
      "source": [
        "## What was the most popular pet?\n",
        "This is a very interesting question, given the data, because the data are arranged by respondent, not by pet. We need to _get into_ the pets column now in order to count each type of animal. To do this, we could perform a list comprehension and iterate over each list element for each Series element. But here we're going to give you a handy way to convert that Series of lists into a (longer) Series. The reason for this is to end up with another Series, which means we still have access to the powerful methods available from pandas."
      ]
    },
    {
      "cell_type": "code",
      "metadata": {
        "id": "b4plPQhSFRg_",
        "colab_type": "code",
        "outputId": "e678d618-f019-49b0-fdbf-f55ca5a2d2e1",
        "colab": {
          "base_uri": "https://localhost:8080/",
          "height": 289
        }
      },
      "source": [
        "pet_series = pets['pets'].apply(pd.Series).stack().reset_index(drop=True)\n",
        "pet_series"
      ],
      "execution_count": 0,
      "outputs": [
        {
          "output_type": "execute_result",
          "data": {
            "text/plain": [
              "0         cat\n",
              "1         dog\n",
              "2     hamster\n",
              "3         cat\n",
              "4      gerbil\n",
              "5        fish\n",
              "6     hamster\n",
              "7      gerbil\n",
              "8         cat\n",
              "9         dog\n",
              "10        dog\n",
              "11        cat\n",
              "12     rabbit\n",
              "13        cat\n",
              "14        dog\n",
              "dtype: object"
            ]
          },
          "metadata": {
            "tags": []
          },
          "execution_count": 8
        }
      ]
    },
    {
      "cell_type": "code",
      "metadata": {
        "id": "ZFDgXgxdFRhB",
        "colab_type": "code",
        "outputId": "bd573d26-4e40-4b47-b915-ee668e7e3bdd",
        "colab": {
          "base_uri": "https://localhost:8080/",
          "height": 136
        }
      },
      "source": [
        "# task: produce an ordered count of each animal\n",
        "# one line of code here:\n",
        "pet_series.value_counts()"
      ],
      "execution_count": 0,
      "outputs": [
        {
          "output_type": "execute_result",
          "data": {
            "text/plain": [
              "cat        5\n",
              "dog        4\n",
              "hamster    2\n",
              "gerbil     2\n",
              "rabbit     1\n",
              "fish       1\n",
              "dtype: int64"
            ]
          },
          "metadata": {
            "tags": []
          },
          "execution_count": 9
        }
      ]
    },
    {
      "cell_type": "markdown",
      "metadata": {
        "id": "ZwT2e12TFRhF",
        "colab_type": "text"
      },
      "source": [
        "Cat is the most popular pet."
      ]
    },
    {
      "cell_type": "markdown",
      "metadata": {
        "id": "PZjpRWSPFRhG",
        "colab_type": "text"
      },
      "source": [
        "Note we could also have approached this task by iterating over the original pets column and collecting the animal as the key and the count as the value, but even this requires more explicit iterating and count incrementing, and we still need to iterate over the final result to find the maximum count. With our approach here, we can easily read the most popular pet animal from the top of the result."
      ]
    },
    {
      "cell_type": "markdown",
      "metadata": {
        "id": "RUIFM9UHFRhG",
        "colab_type": "text"
      },
      "source": [
        "## What was the average age of dog owners?\n",
        "Hint, again here you may find it useful to use a lambda function to create a boolean index which is True if a respondent said they had a dog and False otherwise."
      ]
    },
    {
      "cell_type": "code",
      "metadata": {
        "id": "CUzQp8jRFRhH",
        "colab_type": "code",
        "outputId": "53a32952-0943-4f09-b14b-15f0bb256b82",
        "colab": {
          "base_uri": "https://localhost:8080/",
          "height": 34
        }
      },
      "source": [
        "# example\n",
        "('dog' in ['dog', 'cat'], 'dog' in ['rabbit'])"
      ],
      "execution_count": 0,
      "outputs": [
        {
          "output_type": "execute_result",
          "data": {
            "text/plain": [
              "(True, False)"
            ]
          },
          "metadata": {
            "tags": []
          },
          "execution_count": 10
        }
      ]
    },
    {
      "cell_type": "code",
      "metadata": {
        "id": "Rw2NVYuWFRhJ",
        "colab_type": "code",
        "outputId": "6d1a050a-66a7-4425-fcb1-f5a8de29451e",
        "colab": {
          "base_uri": "https://localhost:8080/",
          "height": 34
        }
      },
      "source": [
        "# task: use a lambda function to test whether 'dog' is contained in each list of animals,\n",
        "# extract the age column and then chain the mean method to calculate the average age.\n",
        "# one line of code here:\n",
        "pets.loc[pets['pets'].apply(lambda x: 'dog' in x), 'age'].mean()"
      ],
      "execution_count": 0,
      "outputs": [
        {
          "output_type": "execute_result",
          "data": {
            "text/plain": [
              "46.75"
            ]
          },
          "metadata": {
            "tags": []
          },
          "execution_count": 13
        }
      ]
    },
    {
      "cell_type": "markdown",
      "metadata": {
        "id": "6mJcntTcFRhL",
        "colab_type": "text"
      },
      "source": [
        "# Conclusion\n",
        "You've now seen how pandas holds tabular data, where each column can be a different type (e.g. sex is character and age is a number). Furthermore, pandas provides incredibly powerful methods for slicing and dicing the data to answer some very interesting questions using relatively little code. You're well on your journey to becoming a data ninja!"
      ]
    }
  ]
}
