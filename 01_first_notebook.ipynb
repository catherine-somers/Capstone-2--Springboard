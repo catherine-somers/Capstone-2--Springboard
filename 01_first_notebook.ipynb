{
  "nbformat": 4,
  "nbformat_minor": 0,
  "metadata": {
    "kernelspec": {
      "display_name": "Python 3",
      "language": "python",
      "name": "python3"
    },
    "language_info": {
      "codemirror_mode": {
        "name": "ipython",
        "version": 3
      },
      "file_extension": ".py",
      "mimetype": "text/x-python",
      "name": "python",
      "nbconvert_exporter": "python",
      "pygments_lexer": "ipython3",
      "version": "3.7.3"
    },
    "colab": {
      "name": "01_first_notebook-Copy1.ipynb",
      "provenance": []
    }
  },
  "cells": [
    {
      "cell_type": "markdown",
      "metadata": {
        "id": "qE5z7yXGPYMm",
        "colab_type": "text"
      },
      "source": [
        "# Introduction\n",
        "\n",
        "\"This is my *first* Jupyter notebook.\""
      ]
    },
    {
      "cell_type": "code",
      "metadata": {
        "id": "EU4oHhwLPYMq",
        "colab_type": "code",
        "colab": {}
      },
      "source": [
        "x = 5\n",
        "y = 6\n",
        "z = x + y"
      ],
      "execution_count": 0,
      "outputs": []
    },
    {
      "cell_type": "code",
      "metadata": {
        "id": "RXX9i7cNPYMz",
        "colab_type": "code",
        "colab": {},
        "outputId": "ca3f5bd6-51af-4619-f37a-fab9513c4ffd"
      },
      "source": [
        "print(z)"
      ],
      "execution_count": 0,
      "outputs": [
        {
          "output_type": "stream",
          "text": [
            "11\n"
          ],
          "name": "stdout"
        }
      ]
    },
    {
      "cell_type": "code",
      "metadata": {
        "id": "K_pU1aNFPYM9",
        "colab_type": "code",
        "colab": {}
      },
      "source": [
        ""
      ],
      "execution_count": 0,
      "outputs": []
    }
  ]
}